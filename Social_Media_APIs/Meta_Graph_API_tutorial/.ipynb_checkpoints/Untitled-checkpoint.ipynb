{
 "cells": [
  {
   "cell_type": "markdown",
   "id": "7efc8818",
   "metadata": {},
   "source": [
    "# Sentiment analysis on Facebook extracted data\n",
    "\n",
    "### Autore: Andrew R. Darnall\n",
    "\n",
    "L'analisi in questione propone di studiare il sentiment dei contenuti dei posts, estratti dal\n",
    "mio scraper (fb_scraper.py).\n",
    "Lo scopo dell'analisi e' di studiare quanta enfasi i Social Media Managers della pagina\n",
    "mettono nei loro posts e in generale vedere quale sia il corretto sentiment per approcciare il publico.\n",
    "\n",
    "Un dataset, ottenuto dallo scraper, che ho studiato riguarda la pagina publica di [nintendo italia](https://www.facebook.com/NintendoItalia/).\n",
    "\n",
    "Pre-requisito per la sentiment analysis e' il modello VADER, accessibile tramite\n",
    "Python con il pacchetto 'vaderSentiment' {pip3 install vaderSentiment}"
   ]
  },
  {
   "cell_type": "code",
   "execution_count": null,
   "id": "2a3d2dc3",
   "metadata": {},
   "outputs": [],
   "source": [
    "from vaderSentiment.vaderSentiment import SentimentIntensityAnalyzer\n",
    "import matplotlib.pyplot as plt\n",
    "import numpy as np\n",
    "\n",
    "vader = SentimentIntensityAnalyzer()\n"
   ]
  },
  {
   "cell_type": "markdown",
   "id": "f544c9bd",
   "metadata": {},
   "source": [
    "Per rendere il tutto piu' semplice ed immediato, ho creato tre funzioni:\n",
    "\n",
    "- graphData: per eseguire il plot dei dati presi in input"
   ]
  },
  {
   "cell_type": "code",
   "execution_count": null,
   "id": "f5d4ad8f",
   "metadata": {},
   "outputs": [],
   "source": [
    "def graphData(neg, neu, pos, com, l):\n",
    "    plt.figure(figsize=(14,8))\n",
    "    plt.subplot(2,2,1)\n",
    "    plt.title(\"Negative sentiment\")\n",
    "    plt.hist(neg)\n",
    "    plt.subplot(2,2,2)\n",
    "    plt.title(\"Neutral Sentiment\")\n",
    "    plt.hist(neu)\n",
    "    plt.subplot(2,2,3)\n",
    "    plt.title(\"Positive Sentiment\")\n",
    "    plt.hist(pos)\n",
    "    plt.subplot(2,2,4)\n",
    "    plt.title(\"Compound Sentiment\")\n",
    "    plt.hist(com)\n",
    "    plt.show()"
   ]
  },
  {
   "cell_type": "markdown",
   "id": "63461053",
   "metadata": {},
   "source": [
    "- computeStats: che si occupa di computare le statistiche sul sentiment complessivo dell'analisi"
   ]
  },
  {
   "cell_type": "code",
   "execution_count": null,
   "id": "d93b958f",
   "metadata": {},
   "outputs": [],
   "source": [
    "def computeStats(stats,cont):\n",
    "    ng = 0\n",
    "    nu = 0\n",
    "    ps = 0\n",
    "    cm = 0\n",
    "    for i in stats['neg']:\n",
    "        ng += i\n",
    "    for j in stats['neu']:\n",
    "        nu += j\n",
    "    for k in stats['pos']:\n",
    "        ps += k\n",
    "    for l in stats['com']:\n",
    "        cm += l\n",
    "    ng = ng/cont\n",
    "    nu = nu/cont\n",
    "    ps = ps/cont\n",
    "    cm = cm/cont\n",
    "    print(\"------------- Overall Sentiment --------------\\n\\nTotal Samples:\\t{}\\n\\nNegative Sentiment:\\t{}\\nNeutral Sentiment:\\t{}\\nPositive Sentiment:\\t{}\\nCompound Sentiment:\\t{}\\n\\n----------------------------------------------\\n\\n\".format(cont,ng,nu,ps,cm))\n"
   ]
  },
  {
   "cell_type": "markdown",
   "id": "f8bd63cd",
   "metadata": {},
   "source": [
    "- graphPolarityScores: Per analizzare il sentiment dei dati e graficare i valori ottenuti"
   ]
  },
  {
   "cell_type": "code",
   "execution_count": null,
   "id": "79ee065f",
   "metadata": {},
   "outputs": [],
   "source": [
    "def graphPolarityScores(polarityMap):\n",
    "    neg = []\n",
    "    neu = []\n",
    "    pos = []\n",
    "    com = []\n",
    "    for sentiment, polarity in polarityMap.items():\n",
    "        neg.append(polarity['neg'])\n",
    "        neu.append(polarity['neu'])\n",
    "        pos.append(polarity['pos'])\n",
    "        com.append(polarity['compound'])\n",
    "    l = len(com)\n",
    "    stats = {}\n",
    "    stats['neg'] = neg\n",
    "    stats['neu'] = neu\n",
    "    stats['pos'] = pos\n",
    "    stats['com'] = com\n",
    "    computeStats(stats,l)\n",
    "    graphData(neg, neu, pos, com, l)"
   ]
  },
  {
   "cell_type": "markdown",
   "id": "05ebbf12",
   "metadata": {},
   "source": [
    "Per quanto riguarda la specifica della fonte dei dati, potevo richiederla in input come argomento dello script (a 'compile' time), oppure richiederlo a run time.\n",
    "\n",
    "A seguito il 'main' dello script, dove prendendo in input il path assoluto o relativo della risorsa, in questo caso la directory NINTENDOITALIA:\n",
    "\n",
    "<img src=\"./IMGS/dirPic.png\" alt=\"directoryPicture\"/>\n",
    "\n",
    "all'interno di tale directory e' situato il file di testo 'nintendoitalia.txt' che contiene il testo estrapolato dai posts:\n",
    "\n",
    "<img src=\"./IMGS/textPic.png\" alt=\"textPic\"/>\n",
    "<img src=\"./IMGS/detailsPic.png\" alt=\"detailsPic\"/>\n",
    "\n",
    "Da notare come la prima riga corrisponda con il primo post disponibile nella pagina.\n",
    "\n",
    "La sorgente della analisi dei dati e' 'dataAnalytics.py', reperibile nella stessa repo GitHub\n",
    "in cui si trova il notebook Jupyter.\n",
    "\n",
    "<img src=\"./IMGS/analysisResult.png\" alt=\"analysRes\"/>\n",
    "\n",
    "A seguito dell'analisi possiamo concludere che generalmente i posts della Nintendo tendono a\n",
    "essere prevalentemente con sentiment neutro, lievemente con sentiment composto, pochissimo sentiment positivo e pressoce' nessun sentiment negativo inferendo che questo si il modo per restare pacati e professionali pur restando in ambito Social Media dove spesso si tende ad esagerare con il sentiment per appagare il proprio audience."
   ]
  }
 ],
 "metadata": {
  "kernelspec": {
   "display_name": "Python 3 (ipykernel)",
   "language": "python",
   "name": "python3"
  },
  "language_info": {
   "codemirror_mode": {
    "name": "ipython",
    "version": 3
   },
   "file_extension": ".py",
   "mimetype": "text/x-python",
   "name": "python",
   "nbconvert_exporter": "python",
   "pygments_lexer": "ipython3",
   "version": "3.9.12"
  }
 },
 "nbformat": 4,
 "nbformat_minor": 5
}
